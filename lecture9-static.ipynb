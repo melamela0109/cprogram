{
 "cells": [
  {
   "cell_type": "markdown",
   "id": "f05f1c28-97fb-4935-a1a1-27ce762a906b",
   "metadata": {},
   "source": [
    "# 1. 정적 지역 객체\n",
    "* static-function1.c, static-main1.c 파일내에 각각 정적변수로 sg 선언\n",
    "* 2개의 파일내에 있는 정적변수 sg는 서로 다른 전역 변수"
   ]
  },
  {
   "cell_type": "code",
   "execution_count": null,
   "id": "281b7833-1abc-4fd5-bd80-a124149462e4",
   "metadata": {},
   "outputs": [],
   "source": [
    "%%writefile static-function1.c\n",
    "static int sg = 0;"
   ]
  },
  {
   "cell_type": "code",
   "execution_count": null,
   "id": "3cb776ce-ddb9-4991-b6e2-88d04d059423",
   "metadata": {},
   "outputs": [],
   "source": [
    "%%writefile static-main1.c\n",
    "#include <stdio.h>\n",
    "int main(){\n",
    "    sg = 5;\n",
    "    printf(\"%d\",sg);\n",
    "    return 0;\n",
    "}"
   ]
  },
  {
   "cell_type": "markdown",
   "id": "a7fcaa26-c2ac-4fd1-8ec1-a576d6835909",
   "metadata": {},
   "source": [
    "# 컴파일 & 링커\n",
    "* 외부파일로는 static변수에 접근 불가\n",
    "* 외부함수로는 static변수 접근 가능\n",
    "* 이유는 <font color=red><b>static변수는 기본 범위(scope)가 로컬(파일 또는 함수)이므로 외부 파일에서는 직접 접근할 수 없다.</b></font> "
   ]
  },
  {
   "cell_type": "code",
   "execution_count": null,
   "id": "58a43a7d-2250-4ee4-8a0c-87ca66cca39e",
   "metadata": {},
   "outputs": [],
   "source": [
    "static extern (X)\n",
    "그래서 함수를 만들어서 접"
   ]
  },
  {
   "cell_type": "code",
   "execution_count": null,
   "id": "f643aabc-e112-40d7-88ad-31df5b8811d2",
   "metadata": {},
   "outputs": [],
   "source": [
    "!gcc -o static-main1 static-function1.c static-main1.c"
   ]
  },
  {
   "cell_type": "markdown",
   "id": "0d1cbc9a-1570-4fc4-8678-2397d5600363",
   "metadata": {},
   "source": [
    "# 외부파일에서 static변수 접근 방법은 함수를 통해 "
   ]
  },
  {
   "cell_type": "code",
   "execution_count": null,
   "id": "f9e22bc7-bd82-4799-b1ed-83688d2545c2",
   "metadata": {},
   "outputs": [],
   "source": [
    "%%writefile static-function2.c\n",
    "static int sg = 0;\n",
    "void increment(){\n",
    "    sg++;\n",
    "}\n",
    "void decrement(){\n",
    "    sg--;\n",
    "}\n",
    "int get_sg(){\n",
    "    return sg;\n",
    "}"
   ]
  },
  {
   "cell_type": "code",
   "execution_count": null,
   "id": "66a2c9c6-985b-4fd0-aab4-e8f43b31383b",
   "metadata": {},
   "outputs": [],
   "source": [
    "%%writefile static-main2.c\n",
    "#include <stdio.h>\n",
    "extern void increment();\n",
    "extern void decrement();\n",
    "extern int get_sg(); // extern으로 함수 가져오기, 함수 파일 자체를 include 해도됨\n",
    "int main(){\n",
    "    increment();\n",
    "    printf(\"sg: %d\\n\",get_sg());\n",
    "    increment();\n",
    "    printf(\"sg: %d\\n\",get_sg());\n",
    "    decrement();\n",
    "    printf(\"sg: %d\\n\",get_sg());\n",
    "}"
   ]
  },
  {
   "cell_type": "code",
   "execution_count": null,
   "id": "b08740d7-0f64-47fa-b909-58fd5ea66a9c",
   "metadata": {},
   "outputs": [],
   "source": [
    "#컴파일 & 링킹\n",
    "!gcc -o static-main2.exe static-function2.c static-main2.c"
   ]
  },
  {
   "cell_type": "markdown",
   "id": "18f0a40f-b67b-47a6-b0e0-dbc188f68835",
   "metadata": {},
   "source": [
    "# 실행하여 결과보기"
   ]
  },
  {
   "cell_type": "code",
   "execution_count": null,
   "id": "10b77c24-f1e1-49e3-9f89-2bb6b4cb38c2",
   "metadata": {},
   "outputs": [],
   "source": [
    "#실행\n",
    "!./static-main2.exe"
   ]
  },
  {
   "cell_type": "markdown",
   "id": "1e5b3d82-7101-44ea-b45d-07d427e717e9",
   "metadata": {},
   "source": [
    "# 목록보기"
   ]
  },
  {
   "cell_type": "code",
   "execution_count": null,
   "id": "15115c59-3974-4853-939d-81d1e6674808",
   "metadata": {},
   "outputs": [],
   "source": [
    "!ls -al static*"
   ]
  },
  {
   "cell_type": "code",
   "execution_count": null,
   "id": "f328a378-a88f-46dd-9df2-7b91412a7b0d",
   "metadata": {},
   "outputs": [],
   "source": []
  },
  {
   "cell_type": "markdown",
   "id": "da9c5366-a39b-4957-996a-5c3be08b9042",
   "metadata": {},
   "source": [
    "# 2. 전역변수와 정적 전역 변수의 우선순위"
   ]
  },
  {
   "cell_type": "code",
   "execution_count": null,
   "id": "803b7c0e-73be-4b38-946c-6cc94de4b711",
   "metadata": {},
   "outputs": [],
   "source": [
    "%%writefile static-function3.c\n",
    "int sg = 1;"
   ]
  },
  {
   "cell_type": "code",
   "execution_count": null,
   "id": "89d45616-f7da-421a-8758-5bcd574931c5",
   "metadata": {},
   "outputs": [],
   "source": [
    "%%writefile static-main3.c\n",
    "#include <stdio.h>\n",
    "static int sg = 2;\n",
    "int main(){\n",
    "    printf(\"%d\",sg);\n",
    "    return 0;\n",
    "}"
   ]
  },
  {
   "cell_type": "code",
   "execution_count": null,
   "id": "b8ae07b5-d0c2-4894-95b4-baaac30669e3",
   "metadata": {},
   "outputs": [],
   "source": [
    "지역변수 > 전역변수\n",
    "정적 전역 변수 > 전역변수"
   ]
  },
  {
   "cell_type": "markdown",
   "id": "c536475d-cf91-4f96-b4b9-7c96da2eed30",
   "metadata": {},
   "source": [
    "# 컴파일 & linking "
   ]
  },
  {
   "cell_type": "code",
   "execution_count": null,
   "id": "cc6ddba9-07b7-4b62-9a94-072723d55b15",
   "metadata": {},
   "outputs": [],
   "source": [
    "!gcc -o static-main3.exe static-function3.c static-main3.c"
   ]
  },
  {
   "cell_type": "markdown",
   "id": "576fc85b-7237-4547-8fd7-ee451c9eebc6",
   "metadata": {},
   "source": [
    "# 결과보기"
   ]
  },
  {
   "cell_type": "code",
   "execution_count": null,
   "id": "34917d35-09a3-46d7-a1aa-4aecc7392fd6",
   "metadata": {},
   "outputs": [],
   "source": [
    "!./static-main3.exe"
   ]
  },
  {
   "cell_type": "code",
   "execution_count": null,
   "id": "f92c24ac-8952-4d15-8b4d-e4ff2d1888ab",
   "metadata": {},
   "outputs": [],
   "source": []
  }
 ],
 "metadata": {
  "kernelspec": {
   "display_name": "Python 3 (ipykernel)",
   "language": "python",
   "name": "python3"
  },
  "language_info": {
   "codemirror_mode": {
    "name": "ipython",
    "version": 3
   },
   "file_extension": ".py",
   "mimetype": "text/x-python",
   "name": "python",
   "nbconvert_exporter": "python",
   "pygments_lexer": "ipython3",
   "version": "3.11.6"
  }
 },
 "nbformat": 4,
 "nbformat_minor": 5
}
