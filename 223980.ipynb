{
 "cells": [
  {
   "cell_type": "code",
   "execution_count": null,
   "id": "e8d343d6-cda7-4d6e-a21d-edbe034b04c6",
   "metadata": {},
   "outputs": [],
   "source": [
    "// IF 문 SWITCH 문으로 변환\n",
    "#include <stdio.h>\n",
    "\n",
    "int main()\n",
    "{\n",
    "   int n;\n",
    "   printf(\"정수를 입력하세요.\\r\\n\");\n",
    "   scanf(\"%d\", &n);\n",
    "\n",
    "   if(!(n % 2) && !(n % 3))\n",
    "      printf(\"2와 3의 공배수입니다.\");\n",
    "   else if(!(n % 2))\n",
    "      printf(\"2의 배수입니다.\");\n",
    "   else if(!(n % 3))\n",
    "      printf(\"3의 배수입니다.\");\n",
    "   else\n",
    "      printf(\"2와 3의 공배수가 아닙니다.\");\n",
    "}"
   ]
  },
  {
   "cell_type": "code",
   "execution_count": null,
   "id": "b811bff4-c570-4d9c-ba93-cdf98cf3951f",
   "metadata": {},
   "outputs": [],
   "source": [
    "## include <stdio.h>\n",
    "\n",
    "int main()\n",
    "{\n",
    "    int n;\n",
    "    int condition;\n",
    "    printf(\"정수를 입력하세요.\\r\\n\");\n",
    "    scanf(\"%d\", &n);\n",
    "\n",
    "    condition = !(n % 2) && !(n % 3);\n",
    "    switch(condition){\n",
    "    case 1 : printf(\"2의배수 : %d\", )\n",
    "    }\n",
    "   if(!(n % 2) && !(n % 3))\n",
    "      printf(\"2와 3의 공배수입니다.\");\n",
    "   else if(!(n % 2))\n",
    "      printf(\"2의 배수입니다.\");\n",
    "   else if(!(n % 3))\n",
    "      printf(\"3의 배수입니다.\");\n",
    "   else\n",
    "      printf(\"2와 3의 공배수가 아닙니다.\");\n",
    "}"
   ]
  },
  {
   "cell_type": "code",
   "execution_count": 1,
   "id": "4031575b-3325-429a-8c77-bd6b58e9dfac",
   "metadata": {},
   "outputs": [
    {
     "data": {
      "text/markdown": [
       "아래와 같이 입력하시오\r\n",
       "\n",
       "."
      ]
     },
     "metadata": {},
     "output_type": "display_data"
    },
    {
     "name": "stdin",
     "output_type": "stream",
     "text": [
      " 2 * 3\n"
     ]
    },
    {
     "data": {
      "text/markdown": [
       "2 * 3 = 6\n",
       "\n"
      ]
     },
     "metadata": {},
     "output_type": "display_data"
    }
   ],
   "source": [
    "//과제 2 : 사칙연산을 switch문으로 완성하시오\n",
    "// 입력값 (두개의 정수값과 연산자: +, -, *, /)\n",
    "// 아래와 같이 입력하시오. (세개의 값은 공백으로 분리)\n",
    "// 출력값 2 + 3 = 5\n",
    "#include <stdio.h>\n",
    "int main(){\n",
    "    printf(\"아래와 같이 입력하시오\\r\\n.\");\n",
    "    int a, b;\n",
    "    char c;\n",
    "    scanf(\"%d %c %d\",&a,&c,&b);\n",
    "    switch(c){\n",
    "    case '+': printf(\"%d + %d = %d\\n\", a, b, a+b); break;\n",
    "    case '-': printf(\"%d - %d = %d\\n\", a, b, a-b); break;\n",
    "    case '*': printf(\"%d * %d = %d\\n\", a, b, a*b); break;\n",
    "    case '/': printf(\"%d // %d = %d\\n\", a, b, a/b); break;\n",
    "    \n",
    "    }    \n",
    "}"
   ]
  },
  {
   "cell_type": "code",
   "execution_count": null,
   "id": "a5e6a1a6-9534-4212-a2db-d9a5acb37351",
   "metadata": {},
   "outputs": [],
   "source": []
  }
 ],
 "metadata": {
  "kernelspec": {
   "display_name": "C++14",
   "language": "c++",
   "name": "cpp14"
  },
  "language_info": {
   "file_extension": ".cpp",
   "mimetype": "text/markdown",
   "name": "text/markdown"
  }
 },
 "nbformat": 4,
 "nbformat_minor": 5
}
