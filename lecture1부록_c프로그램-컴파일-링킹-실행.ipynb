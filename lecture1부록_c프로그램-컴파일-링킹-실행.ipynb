{
 "cells": [
  {
   "cell_type": "markdown",
   "id": "9bd7142c-c268-4302-b9b2-ed68a382190f",
   "metadata": {},
   "source": [
    "# C 프로그램 전체 진행과정 살펴보기\n",
    "## 1. 단일 파일 실행 예(hello.c) : 소스 작성 => 컴파일(어셈블리어 > 기계어) => 링킹 => 실행가능한 파일"
   ]
  },
  {
   "cell_type": "code",
   "execution_count": 1,
   "id": "e3e10900-d277-46cd-8de3-cdb0bcb86378",
   "metadata": {},
   "outputs": [
    {
     "data": {
      "text/plain": [
       "'/home/jovyan/work'"
      ]
     },
     "execution_count": 1,
     "metadata": {},
     "output_type": "execute_result"
    }
   ],
   "source": [
    "%pwd\n",
    "#현재 위치 확인 % >> 라인명령어"
   ]
  },
  {
   "cell_type": "code",
   "execution_count": 2,
   "id": "6f5632e9-6c78-49ba-8a01-a843f613b756",
   "metadata": {},
   "outputs": [],
   "source": [
    "#1. 프로젝트 생성(폴더 생성) : project1  ! >> 수행명령어\n",
    "!mkdir project1"
   ]
  },
  {
   "cell_type": "code",
   "execution_count": 3,
   "id": "3c8b5718-d03e-47eb-ae4e-07682c4b9ea9",
   "metadata": {},
   "outputs": [
    {
     "name": "stdout",
     "output_type": "stream",
     "text": [
      "Writing project1/hello.c\n"
     ]
    }
   ],
   "source": [
    "%%writefile project1/hello.c\n",
    "//2. 프로젝트내에 C 파일 생성: project1/hello.c \n",
    "#include <stdio.h> 헤더파일 >> 함수 덩어리 파일\n",
    "int main(){\n",
    "    printf(\"Hello, world !!!\");\n",
    "    return 0;\n",
    "}"
   ]
  },
  {
   "cell_type": "code",
   "execution_count": 5,
   "id": "87e5dc31-1306-41b1-b66f-2befaf8e0ec0",
   "metadata": {},
   "outputs": [
    {
     "name": "stdout",
     "output_type": "stream",
     "text": [
      "\u001b[01m\u001b[Kproject1/hello.c:2:20:\u001b[m\u001b[K \u001b[01;35m\u001b[Kwarning: \u001b[m\u001b[Kextra tokens at end of #include directive\n",
      "    2 | #include <stdio.h> \u001b[01;35m\u001b[K헤더파일\u001b[m\u001b[K >> 함수 덩어리 파일\n",
      "      |                    \u001b[01;35m\u001b[K^~~~~~~~\u001b[m\u001b[K\n"
     ]
    }
   ],
   "source": [
    "#3. 프로젝트내에  C 파일을 어셈블리어로 변환( hello.c --> hello.s ) \n",
    "#명령 옵션: -S\n",
    "!gcc -S project1/hello.c -o project1/hello.s"
   ]
  },
  {
   "cell_type": "code",
   "execution_count": 6,
   "id": "fd2407b7-9f98-4157-9f36-c833d2860759",
   "metadata": {},
   "outputs": [
    {
     "name": "stdout",
     "output_type": "stream",
     "text": [
      "\t.file\t\"hello.c\"\n",
      "\t.text\n",
      "\t.section\t.rodata\n",
      ".LC0:\n",
      "\t.string\t\"Hello, world !!!\"\n",
      "\t.text\n",
      "\t.globl\tmain\n",
      "\t.type\tmain, @function\n",
      "main:\n",
      ".LFB0:\n",
      "\t.cfi_startproc\n",
      "\tendbr64\n",
      "\tpushq\t%rbp\n",
      "\t.cfi_def_cfa_offset 16\n",
      "\t.cfi_offset 6, -16\n",
      "\tmovq\t%rsp, %rbp\n",
      "\t.cfi_def_cfa_register 6\n",
      "\tleaq\t.LC0(%rip), %rax\n",
      "\tmovq\t%rax, %rdi\n",
      "\tmovl\t$0, %eax\n",
      "\tcall\tprintf@PLT\n",
      "\tmovl\t$0, %eax\n",
      "\tpopq\t%rbp\n",
      "\t.cfi_def_cfa 7, 8\n",
      "\tret\n",
      "\t.cfi_endproc\n",
      ".LFE0:\n",
      "\t.size\tmain, .-main\n",
      "\t.ident\t\"GCC: (Ubuntu 11.4.0-1ubuntu1~22.04) 11.4.0\"\n",
      "\t.section\t.note.GNU-stack,\"\",@progbits\n",
      "\t.section\t.note.gnu.property,\"a\"\n",
      "\t.align 8\n",
      "\t.long\t1f - 0f\n",
      "\t.long\t4f - 1f\n",
      "\t.long\t5\n",
      "0:\n",
      "\t.string\t\"GNU\"\n",
      "1:\n",
      "\t.align 8\n",
      "\t.long\t0xc0000002\n",
      "\t.long\t3f - 2f\n",
      "2:\n",
      "\t.long\t0x3\n",
      "3:\n",
      "\t.align 8\n",
      "4:\n"
     ]
    }
   ],
   "source": [
    "#4. 프로젝트내에 어셈블리어 내용 확인(hello.s)\n",
    "!cat project1/hello.s"
   ]
  },
  {
   "cell_type": "code",
   "execution_count": 7,
   "id": "18d67e8e-9865-40c9-93d3-7e314d2baebc",
   "metadata": {},
   "outputs": [],
   "source": [
    "#5. 어셈블리어 파일 -> 목적 파일(Object File)로 변환: C,C++ 등의 고수준 언어로 작성된 코드가 기계어로 변환된 중간 파일로 곧 최종 실행 파일을 \n",
    "#   만들기 위해 **링커(Linker)**를 통해 다른 목적 파일과 결합해야 함.\n",
    "# 명령 옵션: -c\n",
    "!gcc -c project1/hello.s -o project1/hello.o"
   ]
  },
  {
   "cell_type": "code",
   "execution_count": 8,
   "id": "6c36d691-79a6-4e53-a482-e13da2f9535e",
   "metadata": {},
   "outputs": [],
   "source": [
    "#6. 목적 파일 -> 실행가능한 파일로 변환\n",
    "!gcc project1/hello.o -o project1/hello.exe"
   ]
  },
  {
   "cell_type": "code",
   "execution_count": 9,
   "id": "9be3d0f5-4272-4b2c-8141-f059cc903b9e",
   "metadata": {},
   "outputs": [
    {
     "name": "stdout",
     "output_type": "stream",
     "text": [
      "Hello, world !!!"
     ]
    }
   ],
   "source": [
    "#7. 실행\n",
    "!./project1/hello.exe"
   ]
  },
  {
   "cell_type": "markdown",
   "id": "b16482f2-3546-4845-b82d-efd6c2874a2b",
   "metadata": {},
   "source": [
    "## 2. 다중 파일 컴파일 예시  \n",
    "📂 **프로젝트 구성**\n",
    "\n",
    "```\n",
    "project2/\n",
    "│── main.c  # 메인 프로그램\n",
    "│── utils.c # 유틸리티 함수 \n",
    "│── utils.h # 유틸리티 함수 헤더 파일\n",
    "```\n",
    "\n",
    "#### ✅ **방법 1: 목적 파일 없이 직접 컴파일 (비효율적)**  \n",
    "\n",
    "```sh\n",
    "gcc project2/main.c project2/utils.c -o project2/my_program.exe\n",
    "```\n",
    "\n",
    "- `main.c`, `utils.c` 모두 매번 다시 컴파일됨 → **비효율적**  \n",
    "- 수정하지 않은 `utils.c`도 계속 컴파일해야 함.\n",
    "\n",
    "#### ✅ **방법 2: 목적 파일을 활용하여 컴파일 (효율적)**  \n",
    "\n",
    "```sh\n",
    "gcc -c project2/main.c -o project2/main.o\n",
    "gcc -c project2/utils.c -o project2/utils.o\n",
    "gcc project2/main.o project2/utils.o -o project2/my_program.exe\n",
    "```\n",
    "\n",
    "- `utils.c`가 수정되지 않으면 **다시 컴파일할 필요 없음**  \n",
    "- 변경된 파일만 재컴파일하면 됨 → **빌드 속도 향상**\n"
   ]
  },
  {
   "cell_type": "code",
   "execution_count": null,
   "id": "36832c78-1907-413b-a627-fd947d40d8fa",
   "metadata": {},
   "outputs": [],
   "source": [
    "%pwd \n",
    "#현재 위치 확인"
   ]
  },
  {
   "cell_type": "code",
   "execution_count": 10,
   "id": "2a6fee03-2d33-4698-a81e-a4235f8e716d",
   "metadata": {},
   "outputs": [],
   "source": [
    "#1. 프로젝트 폴더 생성\n",
    "!mkdir project2"
   ]
  },
  {
   "cell_type": "code",
   "execution_count": 11,
   "id": "ec5fbbc1-b603-4d05-b1cc-8c4d7839603b",
   "metadata": {},
   "outputs": [
    {
     "name": "stdout",
     "output_type": "stream",
     "text": [
      "Writing project2/utils.h\n"
     ]
    }
   ],
   "source": [
    "%%writefile project2/utils.h\n",
    "//2-1. C프로그램 utils.h 파일 생성\n",
    "#ifndef UTILS_H\n",
    "#define UTILS_H\n",
    "void myprintf();\n",
    "#endif //UTILS_H 중복 방지를 위해"
   ]
  },
  {
   "cell_type": "code",
   "execution_count": 12,
   "id": "b1686247-d5cf-4d6a-bcba-889406b3030f",
   "metadata": {},
   "outputs": [
    {
     "name": "stdout",
     "output_type": "stream",
     "text": [
      "Writing project2/utils.c\n"
     ]
    }
   ],
   "source": [
    "%%writefile project2/utils.c\n",
    "//2-2. C프로그램 utils.c 파일\n",
    "#include <stdio.h>\n",
    "#include \"utils.h\"\n",
    "void myprintf(){\n",
    "    printf(\"내가 만들 유틸리티 함수: myprintf()\\n\");    \n",
    "}"
   ]
  },
  {
   "cell_type": "code",
   "execution_count": 13,
   "id": "e50e942b-977b-4ce9-b653-7535a6f445e9",
   "metadata": {},
   "outputs": [
    {
     "name": "stdout",
     "output_type": "stream",
     "text": [
      "Writing project2/main.c\n"
     ]
    }
   ],
   "source": [
    "%%writefile project2/main.c\n",
    "//2-3. C프로그램 main.c 파일\n",
    "#include <stdio.h>\n",
    "#include \"utils.h\"\n",
    "int main(){\n",
    "    printf(\"This is main.c\\n\");\n",
    "    myprintf();\n",
    "    return 0;\n",
    "}"
   ]
  },
  {
   "cell_type": "code",
   "execution_count": 14,
   "id": "134a4964-0433-4cfe-8f99-1de2f76e1ad7",
   "metadata": {},
   "outputs": [],
   "source": [
    "#3. 개별 C파일을 목적 파일(.o)로 변환\n",
    "!gcc -c project2/utils.c -o project2/utils.o\n",
    "!gcc -c project2/main.c -o project2/main.o"
   ]
  },
  {
   "cell_type": "code",
   "execution_count": 15,
   "id": "9130630c-7d3a-4d45-8d5b-69bcbb473282",
   "metadata": {},
   "outputs": [],
   "source": [
    "#4. 목적 파일을 실행가능한 파일로 링크\n",
    "!gcc project2/main.o project2/utils.o -o project2/main.exe"
   ]
  },
  {
   "cell_type": "code",
   "execution_count": 16,
   "id": "8faace6f-56c7-437e-bdba-dc86c9d83e55",
   "metadata": {},
   "outputs": [
    {
     "name": "stdout",
     "output_type": "stream",
     "text": [
      "This is main.c\n",
      "내가 만들 유틸리티 함수: myprintf()\n"
     ]
    }
   ],
   "source": [
    "#5. 결과 확인\n",
    "!./project2/main.exe"
   ]
  },
  {
   "cell_type": "markdown",
   "id": "4ece66cc-98a5-4bc2-a8fb-036429d8e1cd",
   "metadata": {},
   "source": [
    "이렇게 실행파일이 만들어지는구나.. \n",
    "(소스파일 > 어셈블리 > 오브젝트 (목적) > 링커 > exe 실행파일"
   ]
  }
 ],
 "metadata": {
  "kernelspec": {
   "display_name": "Python 3 (ipykernel)",
   "language": "python",
   "name": "python3"
  },
  "language_info": {
   "codemirror_mode": {
    "name": "ipython",
    "version": 3
   },
   "file_extension": ".py",
   "mimetype": "text/x-python",
   "name": "python",
   "nbconvert_exporter": "python",
   "pygments_lexer": "ipython3",
   "version": "3.11.6"
  }
 },
 "nbformat": 4,
 "nbformat_minor": 5
}
