{
 "cells": [
  {
   "cell_type": "code",
   "execution_count": 1,
   "id": "2047ede3-68eb-4f9a-a79a-217bdd5772dd",
   "metadata": {},
   "outputs": [
    {
     "data": {
      "text/markdown": [
       "어떤 것을 진행하시겠습니까 1 : 사칙연산 2 : 구구단 3 : 종료"
      ]
     },
     "metadata": {},
     "output_type": "display_data"
    },
    {
     "name": "stdin",
     "output_type": "stream",
     "text": [
      " 1\n"
     ]
    },
    {
     "data": {
      "text/markdown": [
       "a와 b 정수와 연산자 c를 입력하시오\r\n",
       "\n",
       "."
      ]
     },
     "metadata": {},
     "output_type": "display_data"
    },
    {
     "name": "stdin",
     "output_type": "stream",
     "text": [
      " 1 + 1\n"
     ]
    },
    {
     "data": {
      "text/markdown": [
       "1 + 1 = 2\n",
       "\n",
       "어떤 것을 진행하시겠습니까 1 : 사칙연산 2 : 구구단 3 : 종료"
      ]
     },
     "metadata": {},
     "output_type": "display_data"
    },
    {
     "name": "stdin",
     "output_type": "stream",
     "text": [
      " 1\n"
     ]
    },
    {
     "data": {
      "text/markdown": [
       "a와 b 정수와 연산자 c를 입력하시오\r\n",
       "\n",
       "."
      ]
     },
     "metadata": {},
     "output_type": "display_data"
    },
    {
     "name": "stdin",
     "output_type": "stream",
     "text": [
      " 1 * 3\n"
     ]
    },
    {
     "data": {
      "text/markdown": [
       "1 * 3 = 3\n",
       "\n",
       "어떤 것을 진행하시겠습니까 1 : 사칙연산 2 : 구구단 3 : 종료"
      ]
     },
     "metadata": {},
     "output_type": "display_data"
    },
    {
     "name": "stdin",
     "output_type": "stream",
     "text": [
      " 2\n"
     ]
    },
    {
     "data": {
      "text/markdown": [
       "원하는 단을 입력하세요(m)\r\n",
       "\n",
       "."
      ]
     },
     "metadata": {},
     "output_type": "display_data"
    },
    {
     "name": "stdin",
     "output_type": "stream",
     "text": [
      " 5\n"
     ]
    },
    {
     "data": {
      "text/markdown": [
       "0 x 5 = 0\n",
       "\n",
       "1 x 5 = 5\n",
       "\n",
       "2 x 5 = 10\n",
       "\n",
       "3 x 5 = 15\n",
       "\n",
       "4 x 5 = 20\n",
       "\n",
       "5 x 5 = 25\n",
       "\n",
       "6 x 5 = 30\n",
       "\n",
       "7 x 5 = 35\n",
       "\n",
       "8 x 5 = 40\n",
       "\n",
       "9 x 5 = 45\n",
       "\n",
       "10 x 5 = 50\n",
       "\n",
       "어떤 것을 진행하시겠습니까 1 : 사칙연산 2 : 구구단 3 : 종료"
      ]
     },
     "metadata": {},
     "output_type": "display_data"
    },
    {
     "name": "stdin",
     "output_type": "stream",
     "text": [
      " 1\n"
     ]
    },
    {
     "data": {
      "text/markdown": [
       "a와 b 정수와 연산자 c를 입력하시오\r\n",
       "\n",
       "."
      ]
     },
     "metadata": {},
     "output_type": "display_data"
    },
    {
     "name": "stdin",
     "output_type": "stream",
     "text": [
      " 1 22\n"
     ]
    },
    {
     "data": {
      "text/markdown": [
       "잘못입력하셨습니다.\n",
       "\n",
       "어떤 것을 진행하시겠습니까 1 : 사칙연산 2 : 구구단 3 : 종료"
      ]
     },
     "metadata": {},
     "output_type": "display_data"
    },
    {
     "name": "stdin",
     "output_type": "stream",
     "text": [
      " 1\n"
     ]
    },
    {
     "data": {
      "text/markdown": [
       "a와 b 정수와 연산자 c를 입력하시오\r\n",
       "\n",
       "."
      ]
     },
     "metadata": {},
     "output_type": "display_data"
    },
    {
     "name": "stdin",
     "output_type": "stream",
     "text": [
      " 1 + 1\n"
     ]
    },
    {
     "data": {
      "text/markdown": [
       "1 + 1 = 2\n",
       "\n",
       "어떤 것을 진행하시겠습니까 1 : 사칙연산 2 : 구구단 3 : 종료"
      ]
     },
     "metadata": {},
     "output_type": "display_data"
    },
    {
     "name": "stdin",
     "output_type": "stream",
     "text": [
      " 2\n"
     ]
    },
    {
     "data": {
      "text/markdown": [
       "원하는 단을 입력하세요(m)\r\n",
       "\n",
       "."
      ]
     },
     "metadata": {},
     "output_type": "display_data"
    },
    {
     "name": "stdin",
     "output_type": "stream",
     "text": [
      " 4\n"
     ]
    },
    {
     "data": {
      "text/markdown": [
       "어떤 것을 진행하시겠습니까 1 : 사칙연산 2 : 구구단 3 : 종료"
      ]
     },
     "metadata": {},
     "output_type": "display_data"
    },
    {
     "name": "stdin",
     "output_type": "stream",
     "text": [
      " 2\n"
     ]
    },
    {
     "data": {
      "text/markdown": [
       "원하는 단을 입력하세요(m)\r\n",
       "\n",
       "."
      ]
     },
     "metadata": {},
     "output_type": "display_data"
    },
    {
     "name": "stdin",
     "output_type": "stream",
     "text": [
      " 4\n"
     ]
    },
    {
     "data": {
      "text/markdown": [
       "어떤 것을 진행하시겠습니까 1 : 사칙연산 2 : 구구단 3 : 종료"
      ]
     },
     "metadata": {},
     "output_type": "display_data"
    },
    {
     "name": "stdin",
     "output_type": "stream",
     "text": [
      " 2\n"
     ]
    },
    {
     "data": {
      "text/markdown": [
       "원하는 단을 입력하세요(m)\r\n",
       "\n",
       "."
      ]
     },
     "metadata": {},
     "output_type": "display_data"
    },
    {
     "name": "stdin",
     "output_type": "stream",
     "text": [
      " 4\n"
     ]
    },
    {
     "data": {
      "text/markdown": [
       "어떤 것을 진행하시겠습니까 1 : 사칙연산 2 : 구구단 3 : 종료"
      ]
     },
     "metadata": {},
     "output_type": "display_data"
    },
    {
     "name": "stdin",
     "output_type": "stream",
     "text": [
      " 1\n"
     ]
    },
    {
     "data": {
      "text/markdown": [
       "a와 b 정수와 연산자 c를 입력하시오\r\n",
       "\n",
       "."
      ]
     },
     "metadata": {},
     "output_type": "display_data"
    },
    {
     "name": "stdin",
     "output_type": "stream",
     "text": [
      " 1 + 3\n"
     ]
    },
    {
     "data": {
      "text/markdown": [
       "1 + 3 = 4\n",
       "\n",
       "어떤 것을 진행하시겠습니까 1 : 사칙연산 2 : 구구단 3 : 종료"
      ]
     },
     "metadata": {},
     "output_type": "display_data"
    },
    {
     "name": "stdin",
     "output_type": "stream",
     "text": [
      " 2\n"
     ]
    },
    {
     "data": {
      "text/markdown": [
       "원하는 단을 입력하세요(m)\r\n",
       "\n",
       "."
      ]
     },
     "metadata": {},
     "output_type": "display_data"
    },
    {
     "name": "stdin",
     "output_type": "stream",
     "text": [
      " 4\n"
     ]
    },
    {
     "data": {
      "text/markdown": [
       "어떤 것을 진행하시겠습니까 1 : 사칙연산 2 : 구구단 3 : 종료"
      ]
     },
     "metadata": {},
     "output_type": "display_data"
    },
    {
     "name": "stdin",
     "output_type": "stream",
     "text": [
      " 3\n"
     ]
    },
    {
     "data": {
      "text/markdown": [
       "프로그램을 종료하겠습니다.\n",
       "\n"
      ]
     },
     "metadata": {},
     "output_type": "display_data"
    }
   ],
   "source": [
    "//1. do while 문 1사칙연산 2구구단 3종료 \n",
    "#include <stdio.h>\n",
    "int main(){\n",
    "    int n;\n",
    "    int i = 2;\n",
    "    do{\n",
    "        printf(\"어떤 것을 진행하시겠습니까 1 : 사칙연산 2 : 구구단 3 : 종료\");\n",
    "        scanf(\"%d\",&n);\n",
    "        if(n==1){\n",
    "                printf(\"a와 b 정수와 연산자 c를 입력하시오\\r\\n.\");\n",
    "                int a, b;\n",
    "                char c;\n",
    "                scanf(\"%d %c %d\",&a,&c,&b);\n",
    "                switch(c){\n",
    "                    case '+': printf(\"%d + %d = %d\\n\", a, b, a+b); break;\n",
    "                    case '-': printf(\"%d - %d = %d\\n\", a, b, a-b); break;\n",
    "                    case '*': printf(\"%d * %d = %d\\n\", a, b, a*b); break;\n",
    "                    case '/': printf(\"%d // %d = %d\\n\", a, b, a/b); break;}\n",
    "            }\n",
    "        else if(n==2){\n",
    "                printf(\"원하는 단을 입력하세요(m)\\r\\n.\");\n",
    "                int m;\n",
    "                scanf(\"%d\",&m);\n",
    "                for(int i;i<=10;i++){\n",
    "                    printf(\"%d x %d = %d\\n\",i,m,i*m);}\n",
    "            }\n",
    "        else if(n==3){\n",
    "                printf(\"프로그램을 종료하겠습니다.\\n\"); break;}\n",
    "        else{\n",
    "            continue;}\n",
    "    }while(1);\n",
    "}"
   ]
  },
  {
   "cell_type": "code",
   "execution_count": null,
   "id": "75c7660b-f6bf-42c2-a08a-02acc8fc349f",
   "metadata": {
    "collapsed": true,
    "jupyter": {
     "outputs_hidden": true
    }
   },
   "outputs": [],
   "source": []
  }
 ],
 "metadata": {
  "kernelspec": {
   "display_name": "C++14",
   "language": "c++",
   "name": "cpp14"
  },
  "language_info": {
   "file_extension": ".cpp",
   "mimetype": "text/markdown",
   "name": "text/markdown"
  }
 },
 "nbformat": 4,
 "nbformat_minor": 5
}
