{
 "cells": [
  {
   "cell_type": "markdown",
   "id": "22821e53-3fc2-447c-b8b7-b13567236568",
   "metadata": {},
   "source": [
    "## 1. 파일생성: lab9-3-func.c"
   ]
  },
  {
   "cell_type": "code",
   "execution_count": 1,
   "id": "a7514f6d-0690-4480-bb61-d47a3d266643",
   "metadata": {},
   "outputs": [
    {
     "name": "stdout",
     "output_type": "stream",
     "text": [
      "Writing lab9-3-func.c\n"
     ]
    }
   ],
   "source": [
    "%%writefile lab9-3-func.c\n",
    "// 파일명: lab9-3-func.c\n",
    "#include <stdio.h>\n",
    "\n",
    "int g_Balance = 0;\n",
    "\n",
    "void Deposit(int amount)\n",
    "{\n",
    "   g_Balance += amount;\n",
    "   printf(\"입금: %d원, 잔고: %d원\\r\\n\", amount, g_Balance);\n",
    " }\n",
    "\n",
    "void Withdraw(int amount)\n",
    "{\n",
    "   g_Balance -= amount;\n",
    "   printf(\"출금: %d원, 잔고: %d원\\r\\n\", amount, g_Balance);\n",
    "}"
   ]
  },
  {
   "cell_type": "markdown",
   "id": "0028fda6-97ce-4671-bd03-3407459f4f8d",
   "metadata": {},
   "source": [
    "## 2. 컴파일: lab9-3-func.c"
   ]
  },
  {
   "cell_type": "code",
   "execution_count": 2,
   "id": "23012c80-4a9c-4c2c-ac0a-f0b6bc79d22b",
   "metadata": {},
   "outputs": [],
   "source": [
    "!gcc -c lab9-3-func.c"
   ]
  },
  {
   "cell_type": "markdown",
   "id": "9e376b1b-3992-4405-8e61-b68f9627dd74",
   "metadata": {},
   "source": [
    "## 3. 헤더파일 생성: lab9-3-func.h"
   ]
  },
  {
   "cell_type": "code",
   "execution_count": 3,
   "id": "56d41750-4743-4d29-89fc-e29ada39b531",
   "metadata": {},
   "outputs": [
    {
     "name": "stdout",
     "output_type": "stream",
     "text": [
      "Writing lab9-3-func.h\n"
     ]
    }
   ],
   "source": [
    "%%writefile lab9-3-func.h\n",
    "void Deposit(int amount);\n",
    "void Withdraw(int amount);"
   ]
  },
  {
   "cell_type": "markdown",
   "id": "76ce3706-e63d-4adf-b1ec-29b30ec94bcd",
   "metadata": {},
   "source": [
    "## 4. lab9-3-main.c 파일 생성"
   ]
  },
  {
   "cell_type": "code",
   "execution_count": 4,
   "id": "45d4136a-1ade-4c04-a93d-61c976ee54fa",
   "metadata": {},
   "outputs": [
    {
     "name": "stdout",
     "output_type": "stream",
     "text": [
      "Writing lab9-3-main.c\n"
     ]
    }
   ],
   "source": [
    "%%writefile lab9-3-main.c\n",
    "//파일명: lab9-3-main.c\n",
    "#include <stdio.h>\n",
    "#include \"lab9-3-func.h\"\n",
    "extern int g_Balance;\n",
    "//void Deposit(int amount);\n",
    "//void Withdraw(int amount);\n",
    "int main( )\n",
    "{\n",
    "   int amount;\n",
    "\n",
    "   while(1)\n",
    "   {\n",
    "      printf(\"입출금액을 입력하세요 > \");\n",
    "      scanf(\"%d\", &amount);\n",
    "\n",
    "      if(amount > 0)\n",
    "         Deposit(amount);\n",
    "      else if(amount < 0)\n",
    "         Withdraw(-amount);\n",
    "      else\n",
    "         break;\n",
    "   } \n",
    "}"
   ]
  },
  {
   "cell_type": "markdown",
   "id": "4ddd583c-ae0b-4780-a25d-343dde8f1b53",
   "metadata": {},
   "source": [
    "## 5. lab9-3-main.c 컴파일"
   ]
  },
  {
   "cell_type": "code",
   "execution_count": 5,
   "id": "2c917332-b025-491a-849f-78e1d203f5f3",
   "metadata": {},
   "outputs": [],
   "source": [
    "!gcc -c lab9-3-main.c"
   ]
  },
  {
   "cell_type": "markdown",
   "id": "20f1bd89-60c3-4d40-ac73-be339e8b22fa",
   "metadata": {},
   "source": [
    "## 6. 링킹하여 실행가능한 파일 생성"
   ]
  },
  {
   "cell_type": "code",
   "execution_count": 6,
   "id": "72fbc20d-2db0-40ca-b709-c75766160c48",
   "metadata": {},
   "outputs": [],
   "source": [
    "!gcc -o lab9-3.exe lab9-3-func.h lab9-3-func.o lab9-3-main.o"
   ]
  },
  {
   "cell_type": "markdown",
   "id": "29062f42-6093-4467-8c08-6eef75d0d011",
   "metadata": {},
   "source": [
    "## 7. 생성된 파일 목록 보기"
   ]
  },
  {
   "cell_type": "code",
   "execution_count": 7,
   "id": "4cd7cc4b-116b-4898-928d-b27a64eb3e63",
   "metadata": {},
   "outputs": [
    {
     "name": "stdout",
     "output_type": "stream",
     "text": [
      "-rwxr-xr-x 1 jovyan users 16208 May 14 13:40 lab9-3.exe\n",
      "-rw-r--r-- 1 jovyan users   309 May 14 13:40 lab9-3-func.c\n",
      "-rw-r--r-- 1 jovyan users    53 May 14 13:40 lab9-3-func.h\n",
      "-rw-r--r-- 1 jovyan users  1984 May 14 13:40 lab9-3-func.o\n",
      "-rw-r--r-- 1 jovyan users   414 May 14 13:40 lab9-3-main.c\n",
      "-rw-r--r-- 1 jovyan users  1912 May 14 13:40 lab9-3-main.o\n"
     ]
    }
   ],
   "source": [
    "!ls -al lab9*"
   ]
  },
  {
   "cell_type": "code",
   "execution_count": null,
   "id": "375ee593-30e6-4ecb-95a1-90adcf0996e2",
   "metadata": {},
   "outputs": [],
   "source": [
    "#실행위치 확인\n",
    "%pwd"
   ]
  },
  {
   "attachments": {
    "009f5f40-2002-485f-9950-f5529e55d8f8.png": {
     "image/png": "[encoded data removed]"
    }
   },
   "cell_type": "markdown",
   "id": "fe9d9e25-d495-402e-a3a9-d64581093fdb",
   "metadata": {},
   "source": [
    "## [실행] 터미널창으로 이동하여 실행(python에서 키보드입력 안됨)\n",
    "1. ![image.png](attachment:009f5f40-2002-485f-9950-f5529e55d8f8.png)"
   ]
  },
  {
   "cell_type": "markdown",
   "id": "18dd45a0-d825-429b-a854-b02951e25e7d",
   "metadata": {},
   "source": []
  },
  {
   "cell_type": "code",
   "execution_count": null,
   "id": "83515ea5-40cb-48a1-a55b-8502b8c5afb5",
   "metadata": {},
   "outputs": [],
   "source": []
  }
 ],
 "metadata": {
  "kernelspec": {
   "display_name": "Python 3 (ipykernel)",
   "language": "python",
   "name": "python3"
  },
  "language_info": {
   "codemirror_mode": {
    "name": "ipython",
    "version": 3
   },
   "file_extension": ".py",
   "mimetype": "text/x-python",
   "name": "python",
   "nbconvert_exporter": "python",
   "pygments_lexer": "ipython3",
   "version": "3.11.6"
  }
 },
 "nbformat": 4,
 "nbformat_minor": 5
}
