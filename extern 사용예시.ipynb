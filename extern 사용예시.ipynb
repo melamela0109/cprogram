{
 "cells": [
  {
   "cell_type": "code",
   "execution_count": null,
   "id": "a3cc7335-e123-48a6-9cab-d397c26cddd5",
   "metadata": {},
   "outputs": [],
   "source": [
    "%%writefile Function9.c\n",
    "int g = 5;"
   ]
  },
  {
   "cell_type": "code",
   "execution_count": null,
   "id": "8b64ecd8-8039-49fd-8063-bb9b67e352a7",
   "metadata": {},
   "outputs": [],
   "source": [
    "%%writefile main9.c\n",
    "#include <stdio.h>\n",
    "int main(){\n",
    "    printf(\"%d\",g);\n",
    "    return 0;\n",
    "}"
   ]
  },
  {
   "cell_type": "code",
   "execution_count": null,
   "id": "ee9d2191-69b4-4cdc-a4ff-bf0e30f99d9f",
   "metadata": {},
   "outputs": [],
   "source": [
    "!gcc -o main9.exe Function9.c main9.c"
   ]
  },
  {
   "cell_type": "code",
   "execution_count": null,
   "id": "496c5c6b-b0bd-4bcd-aa50-3dfb8da98ba4",
   "metadata": {},
   "outputs": [],
   "source": [
    "%%writefile main9-modify.c\n",
    "#include <stdio.h>\n",
    "extern int g;\n",
    "int main(){\n",
    "    printf(\"%d\",g);\n",
    "    return 0;\n",
    "}"
   ]
  },
  {
   "cell_type": "code",
   "execution_count": 7,
   "id": "d1eeede5-00f1-4c64-b61a-90d42ddca39a",
   "metadata": {},
   "outputs": [],
   "source": [
    "!gcc -o main9.exe Function9.c main9-modify.c"
   ]
  },
  {
   "cell_type": "code",
   "execution_count": null,
   "id": "1dcbc54c-bbcc-448e-a8e7-c2c6fecc5412",
   "metadata": {},
   "outputs": [],
   "source": [
    "!./main9"
   ]
  },
  {
   "cell_type": "code",
   "execution_count": null,
   "id": "971e9197-d5b6-4881-9ee1-1162c6d71534",
   "metadata": {},
   "outputs": [],
   "source": [
    "%%writefile main9-modify-error.c\n",
    "#include <stdio.h>\n",
    "/* extern 지정자는 오직 외부 전연변수를 순수하게 선언할 때만 사용, 그 외에 동일 이름으로 전역 객체 중복 선언 금지 */\n",
    "//int g = 2;\n",
    "extern int g = 2;\n",
    "int main(){\n",
    "    printf(\"%d\",g);\n",
    "    return 0;\n",
    "}"
   ]
  },
  {
   "cell_type": "code",
   "execution_count": null,
   "id": "0b227858-e6dd-4cba-a603-5bfa5ed8dca4",
   "metadata": {},
   "outputs": [],
   "source": [
    "!gcc -o main9-error Function9.c main9-modify-error.c"
   ]
  },
  {
   "cell_type": "code",
   "execution_count": null,
   "id": "aeddd1c1-5de2-4d88-b56f-6d4561c507fd",
   "metadata": {},
   "outputs": [],
   "source": [
    "!ls -al main9*"
   ]
  },
  {
   "cell_type": "code",
   "execution_count": null,
   "id": "2f0b3bc6-7fbd-402c-a0bb-81b8c0aa1f65",
   "metadata": {},
   "outputs": [],
   "source": [
    "extern 외부 파일의 변수를 전역으로 가져다 쓰기 >> 선언만 가능 초기화 x"
   ]
  }
 ],
 "metadata": {
  "kernelspec": {
   "display_name": "Python 3 (ipykernel)",
   "language": "python",
   "name": "python3"
  },
  "language_info": {
   "codemirror_mode": {
    "name": "ipython",
    "version": 3
   },
   "file_extension": ".py",
   "mimetype": "text/x-python",
   "name": "python",
   "nbconvert_exporter": "python",
   "pygments_lexer": "ipython3",
   "version": "3.11.6"
  }
 },
 "nbformat": 4,
 "nbformat_minor": 5
}
